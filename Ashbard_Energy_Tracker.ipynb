{
 "cells": [
  {
   "cell_type": "markdown",
   "id": "2710e917",
   "metadata": {},
   "source": [
    "# Ashbard Energy — Production Efficiency Tracker\n",
    "\n",
    "This notebook performs EDA, KPI calculations, anomaly detection, and short-term forecasting for the synthetic Ashbard Energy and Car Dealership datasets. It is structured so you can run each section sequentially in JupyterLab or Colab."
   ]
  },
  {
   "cell_type": "markdown",
   "id": "fc102d4e",
   "metadata": {},
   "source": [
    "## 1. Setup & Packages\n",
    "Install necessary packages (run if missing)."
   ]
  },
  {
   "cell_type": "code",
   "execution_count": null,
   "id": "6760b40f",
   "metadata": {},
   "outputs": [],
   "source": [
    "# Optional installs (uncomment if needed)\n",
    "# %pip install prophet scikit-learn matplotlib pandas streamlit nbconvert seaborn plotly\n",
    "\n",
    "import pandas as pd, numpy as np\n",
    "print('pandas', pd.__version__)\n",
    "print('numpy', np.__version__)\n"
   ]
  },
  {
   "cell_type": "markdown",
   "id": "b1a77212",
   "metadata": {},
   "source": [
    "## 2. Load data"
   ]
  },
  {
   "cell_type": "code",
   "execution_count": null,
   "id": "34ce0b08",
   "metadata": {},
   "outputs": [],
   "source": [
    "ashbard = pd.read_csv(r\"/mnt/data/ashbard_production.csv\", parse_dates=['date'])\n",
    "dealership = pd.read_csv(r\"/mnt/data/dealership_energy.csv\", parse_dates=['date'])\n",
    "print('Ashbard rows, cols:', ashbard.shape)\n",
    "print('Dealership rows, cols:', dealership.shape)\n",
    "display(ashbard.head())\n",
    "display(dealership.head())\n"
   ]
  },
  {
   "cell_type": "markdown",
   "id": "682507ca",
   "metadata": {},
   "source": [
    "## 3. Basic Cleaning & Feature Engineering"
   ]
  },
  {
   "cell_type": "code",
   "execution_count": null,
   "id": "16a05ab4",
   "metadata": {},
   "outputs": [],
   "source": [
    "def prepare_ashbard(df):\n",
    "    df = df.copy()\n",
    "    df = df.sort_values('date')\n",
    "    df['oil_bbl'] = pd.to_numeric(df['oil_bbl'], errors='coerce')\n",
    "    df['gas_mcf'] = pd.to_numeric(df['gas_mcf'], errors='coerce')\n",
    "    df['production_boe'] = pd.to_numeric(df['production_boe'], errors='coerce')\n",
    "    df['energy_kwh'] = pd.to_numeric(df['energy_kwh'], errors='coerce')\n",
    "    df['energy_per_boe'] = df['energy_kwh'] / (df['production_boe'].replace(0, pd.NA))\n",
    "    df['operating_cost_per_boe'] = df['operating_cost_usd'] / (df['production_boe'].replace(0, pd.NA))\n",
    "    df['month'] = df['date'].dt.to_period('M')\n",
    "    df['dayofweek'] = df['date'].dt.day_name()\n",
    "    return df\n",
    "\n",
    "ash = prepare_ashbard(ashbard)\n",
    "dl = dealership.copy()\n",
    "dl['month'] = dl['date'].dt.to_period('M')\n",
    "display(ash[['date','well_id','production_boe','energy_kwh','energy_per_boe']].head())\n"
   ]
  },
  {
   "cell_type": "markdown",
   "id": "21785f0b",
   "metadata": {},
   "source": [
    "## 4. Exploratory Data Analysis (visuals)"
   ]
  },
  {
   "cell_type": "code",
   "execution_count": null,
   "id": "c3088cd1",
   "metadata": {},
   "outputs": [],
   "source": [
    "import matplotlib.pyplot as plt\n",
    "plt.rcParams['figure.figsize'] = (10,4)\n",
    "\n",
    "daily = ash.groupby('date').agg({'production_boe':'sum','energy_kwh':'sum'}).reset_index()\n",
    "daily['rolling_prod_7d'] = daily['production_boe'].rolling(7, min_periods=1).mean()\n",
    "\n",
    "fig, ax = plt.subplots()\n",
    "ax.plot(daily['date'], daily['production_boe'], label='BOE/day')\n",
    "ax.plot(daily['date'], daily['rolling_prod_7d'], label='7-day MA', linestyle='--')\n",
    "ax.set_title('Total Production (BOE/day)')\n",
    "ax.set_ylabel('BOE/day')\n",
    "ax.legend()\n",
    "plt.show()\n"
   ]
  },
  {
   "cell_type": "markdown",
   "id": "2c19348c",
   "metadata": {},
   "source": [
    "## 5. KPI Calculations"
   ]
  },
  {
   "cell_type": "code",
   "execution_count": null,
   "id": "cf7cea2e",
   "metadata": {},
   "outputs": [],
   "source": [
    "kpi_well = ash.groupby('well_id').agg(\n",
    "    avg_boe = ('production_boe','mean'),\n",
    "    total_boe = ('production_boe','sum'),\n",
    "    avg_energy_kwh = ('energy_kwh','mean'),\n",
    "    energy_per_boe = ('energy_per_boe','mean'),\n",
    "    uptime_hours = ('uptime_hours','mean')\n",
    ").reset_index().sort_values('total_boe', ascending=False)\n",
    "display(kpi_well.head())\n",
    "\n",
    "display(dl[['date','electricity_kwh','diesel_liters','fleet_miles','energy_cost_usd']].head())\n"
   ]
  },
  {
   "cell_type": "markdown",
   "id": "af763f70",
   "metadata": {},
   "source": [
    "## 6. Anomaly Detection"
   ]
  },
  {
   "cell_type": "code",
   "execution_count": null,
   "id": "f2e2af7b",
   "metadata": {},
   "outputs": [],
   "source": [
    "from sklearn.ensemble import IsolationForest\n",
    "anom_df = daily.copy().dropna()\n",
    "X = anom_df[['production_boe','energy_kwh']].fillna(0)\n",
    "iso = IsolationForest(contamination=0.03, random_state=42)\n",
    "anom_df['anomaly_score'] = iso.fit_predict(X)\n",
    "anom_df['is_anomaly'] = anom_df['anomaly_score'] == -1\n",
    "print('Anomalies detected:', anom_df['is_anomaly'].sum())\n",
    "display(anom_df[anom_df['is_anomaly']].head())\n"
   ]
  },
  {
   "cell_type": "markdown",
   "id": "a62b761b",
   "metadata": {},
   "source": [
    "## 7. Forecasting (short-term)"
   ]
  },
  {
   "cell_type": "code",
   "execution_count": null,
   "id": "7cdf0ccd",
   "metadata": {},
   "outputs": [],
   "source": [
    "# Forecasting example using Prophet (install if missing)\n",
    "# %pip install prophet\n",
    "try:\n",
    "    from prophet import Prophet\n",
    "    use_prophet = True\n",
    "except Exception as e:\n",
    "    print('Prophet not available, will use statsmodels SARIMAX fallback. Error:', e)\n",
    "    use_prophet = False\n",
    "\n",
    "ts = daily[['date','production_boe']].rename(columns={'date':'ds','production_boe':'y'})\n",
    "ts = ts.set_index('ds').resample('D').sum().reset_index()\n",
    "\n",
    "if use_prophet:\n",
    "    m = Prophet(yearly_seasonality=False,daily_seasonality=False, weekly_seasonality=True)\n",
    "    m.fit(ts)\n",
    "    future = m.make_future_dataframe(periods=60)\n",
    "    forecast = m.predict(future)\n",
    "    display(forecast[['ds','yhat','yhat_lower','yhat_upper']].tail())\n",
    "else:\n",
    "    from statsmodels.tsa.statespace.sarimax import SARIMAX\n",
    "    series = ts.set_index('ds')['y']\n",
    "    model = SARIMAX(series, order=(1,1,1), seasonal_order=(0,0,0,0))\n",
    "    res = model.fit(disp=False)\n",
    "    pred = res.get_forecast(60)\n",
    "    pred_df = pred.summary_frame()\n",
    "    display(pred_df.tail())\n"
   ]
  },
  {
   "cell_type": "markdown",
   "id": "71d552d7",
   "metadata": {},
   "source": [
    "## 8. Export results & next steps"
   ]
  },
  {
   "cell_type": "code",
   "execution_count": null,
   "id": "bd981330",
   "metadata": {},
   "outputs": [],
   "source": [
    "import os\n",
    "os.makedirs('outputs', exist_ok=True)\n",
    "kpi_well.to_csv('outputs/kpi_well.csv', index=False)\n",
    "anom_df[anom_df['is_anomaly']].to_csv('outputs/anomalies.csv', index=False)\n",
    "if 'forecast' in globals():\n",
    "    forecast.to_csv('outputs/forecast.csv', index=False)\n",
    "print('Saved outputs to outputs/ folder in the notebook working directory.')\n"
   ]
  }
 ],
 "metadata": {},
 "nbformat": 4,
 "nbformat_minor": 5
}
